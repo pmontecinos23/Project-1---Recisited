{
 "cells": [
  {
   "cell_type": "code",
   "execution_count": 5,
   "id": "81ef76cd",
   "metadata": {},
   "outputs": [
    {
     "ename": "ImportError",
     "evalue": "attempted relative import with no known parent package",
     "output_type": "error",
     "traceback": [
      "\u001b[1;31m---------------------------------------------------------------------------\u001b[0m",
      "\u001b[1;31mImportError\u001b[0m                               Traceback (most recent call last)",
      "Cell \u001b[1;32mIn [5], line 5\u001b[0m\n\u001b[0;32m      1\u001b[0m \u001b[38;5;66;03m# print(\"Up to date functions for LP have moved to LESSON_V2>lp_functions.py\")\u001b[39;00m\n\u001b[0;32m      2\u001b[0m \u001b[38;5;66;03m# __author__ = \"\"\"James Irving\"\"\"\u001b[39;00m\n\u001b[0;32m      3\u001b[0m \u001b[38;5;66;03m# __email__ = 'jirving@codingdojo.com'\u001b[39;00m\n\u001b[1;32m----> 5\u001b[0m \u001b[38;5;28;01mfrom\u001b[39;00m \u001b[38;5;21;01m.\u001b[39;00m \u001b[38;5;28;01mimport\u001b[39;00m data_enrichment\u001b[38;5;66;03m#\u001b[39;00m\n\u001b[0;32m      6\u001b[0m \u001b[38;5;28;01mfrom\u001b[39;00m \u001b[38;5;21;01m.\u001b[39;00m \u001b[38;5;28;01mimport\u001b[39;00m model_insights\n\u001b[0;32m      9\u001b[0m \u001b[38;5;28;01mdef\u001b[39;00m \u001b[38;5;21mshow_code\u001b[39m(function):\n",
      "\u001b[1;31mImportError\u001b[0m: attempted relative import with no known parent package"
     ]
    }
   ],
   "source": [
    "# print(\"Up to date functions for LP have moved to LESSON_V2>lp_functions.py\")\n",
    "# __author__ = \"\"\"James Irving\"\"\"\n",
    "# __email__ = 'jirving@codingdojo.com'\n",
    "\n",
    "from . import data_enrichment#\n",
    "from . import model_insights\n",
    "\n",
    "\n",
    "def show_code(function):\n",
    "    \"\"\"Display the source code of a funciton or module.\n",
    "    Uses the inspect and IPython modules to display Markdown with Python Syntax. \n",
    "    Args:\n",
    "        function (function or module object): Pass the function/module to show. \n",
    "                                              Use function name, no parentheses.\n",
    "        \n",
    "    Example Use:\n",
    "    ## Example with Function\n",
    "    >> import CODE.lp_functions as lp\n",
    "    >> import scipy.stats as stats\n",
    "    >> lp.show_code(stats.ttest_ind)  \n",
    "    \"\"\"\n",
    "    \n",
    "    import inspect \n",
    "    from IPython.display import display,Markdown\n",
    "    \n",
    "    code = inspect.getsource(function)\n",
    "    md_txt = f\"```python\\n{code}\\n```\"\n",
    "    return display(Markdown(md_txt))"
   ]
  }
 ],
 "metadata": {
  "kernelspec": {
   "display_name": "Python (dojo-env)",
   "language": "python",
   "name": "dojo-env"
  },
  "language_info": {
   "codemirror_mode": {
    "name": "ipython",
    "version": 3
   },
   "file_extension": ".py",
   "mimetype": "text/x-python",
   "name": "python",
   "nbconvert_exporter": "python",
   "pygments_lexer": "ipython3",
   "version": "3.9.15"
  },
  "toc": {
   "base_numbering": 1,
   "nav_menu": {},
   "number_sections": false,
   "sideBar": true,
   "skip_h1_title": false,
   "title_cell": "Table of Contents",
   "title_sidebar": "Contents",
   "toc_cell": false,
   "toc_position": {},
   "toc_section_display": true,
   "toc_window_display": false
  }
 },
 "nbformat": 4,
 "nbformat_minor": 5
}
